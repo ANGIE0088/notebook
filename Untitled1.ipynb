{
 "cells": [
  {
   "cell_type": "code",
   "execution_count": null,
   "metadata": {},
   "outputs": [],
   "source": [
    "date=input('请输入时间：')"
   ]
  },
  {
   "cell_type": "code",
   "execution_count": null,
   "metadata": {},
   "outputs": [],
   "source": [
    "import time\n",
    "struct_time=time.strptime(date,'%Y-%m-%d')"
   ]
  },
  {
   "cell_type": "code",
   "execution_count": null,
   "metadata": {},
   "outputs": [],
   "source": [
    "struct_time.tm_yday"
   ]
  },
  {
   "cell_type": "code",
   "execution_count": 6,
   "metadata": {},
   "outputs": [
    {
     "name": "stdout",
     "output_type": "stream",
     "text": [
      "请输入日期：2015-15-01\n",
      "输入日期有误:time data '2015-15-01' does not match format '%Y-%m-%d'\n",
      "请重新输入\n",
      "请输入日期：2019-01-41\n",
      "输入日期有误:unconverted data remains: 1\n",
      "请重新输入\n",
      "请输入日期：2019-01-04\n",
      "2019-01-04是该年的第4天\n"
     ]
    }
   ],
   "source": [
    "#输入一个日期，格式为xxxx-xx-xx，判断这一天为当年的第几天？\n",
    "import time\n",
    "while True:\n",
    "    try:\n",
    "        date=input('请输入日期：')\n",
    "        struct_time=time.strptime(date,'%Y-%m-%d')\n",
    "    except ValueError as e:\n",
    "        print(\"输入日期有误:{error}\\n请重新输入\".format(error=e))\n",
    "        continue\n",
    "    else:\n",
    "        print('{date}是该年的第{day}天'.format(date=date,day=struct_time.tm_yday))\n",
    "        break"
   ]
  },
  {
   "cell_type": "code",
   "execution_count": null,
   "metadata": {},
   "outputs": [],
   "source": []
  }
 ],
 "metadata": {
  "kernelspec": {
   "display_name": "Python 3",
   "language": "python",
   "name": "python3"
  },
  "language_info": {
   "codemirror_mode": {
    "name": "ipython",
    "version": 3
   },
   "file_extension": ".py",
   "mimetype": "text/x-python",
   "name": "python",
   "nbconvert_exporter": "python",
   "pygments_lexer": "ipython3",
   "version": "3.5.2"
  }
 },
 "nbformat": 4,
 "nbformat_minor": 2
}
