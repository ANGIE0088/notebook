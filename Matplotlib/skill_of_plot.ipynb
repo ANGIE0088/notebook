{
 "cells": [
  {
   "cell_type": "markdown",
   "metadata": {},
   "source": [
    "# 数据可视化技巧"
   ]
  },
  {
   "cell_type": "code",
   "execution_count": 11,
   "metadata": {},
   "outputs": [],
   "source": [
    "import matplotlib.pyplot as plt\n",
    "import seaborn as sns\n",
    "%matplotlib inline"
   ]
  },
  {
   "cell_type": "markdown",
   "metadata": {},
   "source": [
    "创建图形和轴对象  \n",
    "```fig, ax = plt.subplots(ncols=number_of_cols, nrows=number_of_rows, figsize=(x,y)```   \n",
    "例如，如果设置 ncols=1 和 nrows=2，我们将创建一个由 x，y 轴组成的图形，其中只有两个图表，分布在两个不同的行中。剩下的唯一事情是从 0 开始使用'ax'参数指定不同绘图的顺序。例如：  \n",
    "```sns.scatterplot(x=horizontal_data_1, y=vertical_data_1, ax=ax[0]);```  \n",
    "```sns.scatterplot(x=horizontal_data_2, y=vertical_data_2, ax=ax[1]);```"
   ]
  },
  {
   "cell_type": "code",
   "execution_count": 12,
   "metadata": {},
   "outputs": [],
   "source": [
    "sns.set()"
   ]
  },
  {
   "cell_type": "code",
   "execution_count": null,
   "metadata": {},
   "outputs": [],
   "source": []
  }
 ],
 "metadata": {
  "kernelspec": {
   "display_name": "Python 3",
   "language": "python",
   "name": "python3"
  },
  "language_info": {
   "codemirror_mode": {
    "name": "ipython",
    "version": 3
   },
   "file_extension": ".py",
   "mimetype": "text/x-python",
   "name": "python",
   "nbconvert_exporter": "python",
   "pygments_lexer": "ipython3",
   "version": "3.5.2"
  }
 },
 "nbformat": 4,
 "nbformat_minor": 2
}
