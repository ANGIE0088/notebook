{
 "cells": [
  {
   "cell_type": "markdown",
   "metadata": {},
   "source": [
    "# 数据结构"
   ]
  },
  {
   "cell_type": "markdown",
   "metadata": {},
   "source": [
    "* [Task01:数组](#01)\n",
    "* [Task02:顺序表和链表](#02)\n",
    "* [Task03:栈与递归]\n",
    "* [Task04:多线程]\n",
    "* [Task05:字符串](#5)"
   ]
  },
  {
   "cell_type": "code",
   "execution_count": null,
   "metadata": {},
   "outputs": [],
   "source": []
  },
  {
   "cell_type": "markdown",
   "metadata": {},
   "source": [
    "<h2 id=\"01\"> Task01：数组</h2>"
   ]
  },
  {
   "cell_type": "markdown",
   "metadata": {},
   "source": [
    "1. 利用动态数组解决数据存放问题\n",
    "\n",
    "编写一段代码，要求输入一个整数N，用动态数组A来存放2~N之间所有5或7的倍数，输出该数组。\n",
    "\n",
    "示例：\n",
    "```\n",
    "输入：\n",
    "N = 100 \n",
    "\n",
    "输出：\n",
    "5 7 10 14 15 20 21 25 28 30 35 40 42 45 49 50 55 56 60 63 65 70 75 77 80 84 85 90 91 95 98 100\n",
    "```"
   ]
  },
  {
   "cell_type": "code",
   "execution_count": 2,
   "metadata": {},
   "outputs": [],
   "source": [
    "def arry_n(n):\n",
    "    A = []\n",
    "    for i in range(2,n+1):\n",
    "        if i%5==0 or i%7==0:\n",
    "            A.append(i)\n",
    "    return A"
   ]
  },
  {
   "cell_type": "code",
   "execution_count": 3,
   "metadata": {},
   "outputs": [
    {
     "data": {
      "text/plain": [
       "[5, 7, 10, 14, 15, 20, 21, 25, 28, 30]"
      ]
     },
     "execution_count": 3,
     "metadata": {},
     "output_type": "execute_result"
    }
   ],
   "source": [
    "arry_n(30)"
   ]
  },
  {
   "cell_type": "markdown",
   "metadata": {},
   "source": [
    "$ 很Python的写法: $"
   ]
  },
  {
   "cell_type": "code",
   "execution_count": 14,
   "metadata": {},
   "outputs": [
    {
     "data": {
      "text/plain": [
       "[5, 7, 10, 14, 15, 20, 21, 25, 28]"
      ]
     },
     "execution_count": 14,
     "metadata": {},
     "output_type": "execute_result"
    }
   ],
   "source": [
    "[i for i in range(2,30) if i%5==0 or i%7==0]"
   ]
  },
  {
   "cell_type": "markdown",
   "metadata": {},
   "source": [
    "2. 托普利茨矩阵问题\n",
    "\n",
    "https://leetcode-cn.com/problems/toeplitz-matrix/\n",
    "\n",
    "如果一个矩阵的每一方向由左上到右下的对角线上具有相同元素，那么这个矩阵是托普利茨矩阵。\n",
    "\n",
    "给定一个M x N的矩阵，当且仅当它是托普利茨矩阵时返回True。\n",
    "\n",
    "示例1：\n",
    "```\n",
    "输入:\n",
    "matrix = [\n",
    "  [1,2,3,4],\n",
    "  [5,1,2,3],\n",
    "  [9,5,1,2]\n",
    "]\n",
    "输出: True\n",
    "解释:\n",
    "在上述矩阵中, 其对角线为:\n",
    "\"[9]\", \"[5, 5]\", \"[1, 1, 1]\", \"[2, 2, 2]\", \"[3, 3]\", \"[4]\"。\n",
    "各条对角线上的所有元素均相同, 因此答案是`True`。\n",
    "```"
   ]
  },
  {
   "cell_type": "code",
   "execution_count": 5,
   "metadata": {},
   "outputs": [],
   "source": [
    "import numpy as np\n",
    "def toplitz(matrix):\n",
    "    m = np.size(matrix,0)\n",
    "    n = np.size(matrix,1)\n",
    "    false = 0\n",
    "    for i in range(m-1):\n",
    "        for j in range(n-1):\n",
    "            if matrix[i][j] != matrix[i+1][j+1]:\n",
    "                false+=1\n",
    "    if false:\n",
    "        print(False)\n",
    "    else:\n",
    "        print(True)"
   ]
  },
  {
   "cell_type": "code",
   "execution_count": 6,
   "metadata": {},
   "outputs": [
    {
     "name": "stdout",
     "output_type": "stream",
     "text": [
      "True\n"
     ]
    }
   ],
   "source": [
    "toplitz([\n",
    "    [1,2,3,4],\n",
    "    [5,1,2,3],\n",
    "    [9,5,1,2],\n",
    "])"
   ]
  },
  {
   "cell_type": "markdown",
   "metadata": {},
   "source": [
    "3. 三数之和\n",
    "\n",
    "https://leetcode-cn.com/problems/3sum/\n",
    "\n",
    "给定一个包含 n 个整数的数组nums，判断nums中是否存在三个元素a，b，c，使得a + b + c = 0？找出所有满足条件且不重复的三元组。\n",
    "\n",
    "注意：答案中不可以包含重复的三元组。\n",
    "\n",
    "示例：\n",
    "```\n",
    "给定数组 nums = [-1, 0, 1, 2, -1, -4]，\n",
    "\n",
    "满足要求的三元组集合为：\n",
    "[\n",
    "  [-1, 0, 1],\n",
    "  [-1, -1, 2]\n",
    "]\n",
    "```"
   ]
  },
  {
   "cell_type": "code",
   "execution_count": 7,
   "metadata": {},
   "outputs": [],
   "source": [
    "def threesum(nums):\n",
    "    if not nums and len(nums)<3:#空或者少于三个元素不考虑\n",
    "        return False\n",
    "    res = []\n",
    "    nums.sort()#关键：升序排序\n",
    "    for i in range(len(nums)):\n",
    "        if nums[i]>0:#后面只能比它还大，所以和肯定不等于零\n",
    "            return res\n",
    "        if i>0 and nums[i] == nums[i-1]:#跳过重复解\n",
    "            continue\n",
    "        L = i+1\n",
    "        R = len(nums)-1\n",
    "        while L<R:\n",
    "            if nums[L]+nums[i]+nums[R]==0:\n",
    "                res.append([nums[i],nums[L],nums[R]])\n",
    "                while nums[L] == nums[L+1]:#跳过重复元素\n",
    "                    L=L+1\n",
    "                while nums[R] == nums[R-1]:#跳过重复元素\n",
    "                    R=R-1\n",
    "                L = L+1\n",
    "                R = R-1\n",
    "            elif nums[L]+nums[i]+nums[R]>0:#若和大于0，则应该是nums[R]大了，左移减小\n",
    "                R=R-1\n",
    "            elif nums[L]+nums[i]+nums[R]<0:#若和小于0，则应该是nums[L]小了，右移增大\n",
    "                L=L+1\n",
    "    print(res)"
   ]
  },
  {
   "cell_type": "code",
   "execution_count": 8,
   "metadata": {},
   "outputs": [
    {
     "data": {
      "text/plain": [
       "[[-5, -1, 6], [-1, -1, 2], [-1, 0, 1]]"
      ]
     },
     "execution_count": 8,
     "metadata": {},
     "output_type": "execute_result"
    }
   ],
   "source": [
    "threesum([-1, 0, 1, 2, -1, -4, -5, 6])"
   ]
  },
  {
   "cell_type": "markdown",
   "metadata": {},
   "source": [
    "<h2 id=\"02\"> Task02 顺序表和链表</h2>"
   ]
  },
  {
   "cell_type": "markdown",
   "metadata": {},
   "source": [
    "### 1. 线性表的定义与操作\n",
    "1.1 线性表的定义\n",
    "\n",
    "线性表（Linear List）是由n（n >= 0）个相同类型的数据元素a1,a2,...,an 组成的有序序列。即表中除首尾元素外，其它元素有且仅有一个直接前驱和直接后继。首元素仅有一个直接后继，尾元素仅有一个直接前驱。表中数据元素的个数称为表的长度，记为：(a1,a2,...,an)。"
   ]
  },
  {
   "cell_type": "markdown",
   "metadata": {},
   "source": [
    "练习部分\n",
    "\n",
    "1. 合并两个有序链表\n",
    "\n",
    "https://leetcode-cn.com/problems/merge-two-sorted-lists/\n",
    "\n",
    "将两个有序链表合并为一个新的有序链表并返回。新链表是通过拼接给定的两个链表的所有节点组成的。\n",
    "\n",
    "示例\n",
    "```\n",
    "输入：1->2->4, 1->3->4\n",
    "输出：1->1->2->3->4->4\n",
    "```"
   ]
  },
  {
   "cell_type": "code",
   "execution_count": 1,
   "metadata": {},
   "outputs": [],
   "source": [
    "\"定义链表\"\n",
    "class ListNode:\n",
    "    def __init__(self,x):\n",
    "        self.val=x\n",
    "        self.next=None\n",
    "\n",
    "class Solution:\n",
    "    \"\"\"\n",
    "    功能：合并两个有序链表\n",
    "    思路：遍历l1和l2,取其小者作为下一个节点；\n",
    "          取两个指针，一个作为初始赋值指针，一个用来新增新的值。\n",
    "    \"\"\"\n",
    "    def mergeTwoLists(self,l1,l2):\n",
    "        ans=tmp=ListNode(0)\n",
    "        while l1 and l2:\n",
    "            if l1.val < l2.val:\n",
    "                tmp.next,l1 = l1,l1.next\n",
    "            else:\n",
    "                tmp.next,l2 = l2,l2.next\n",
    "            tmp = tmp.next\n",
    "        tmp.next=l1 or l2\n",
    "        return ans.next"
   ]
  },
  {
   "cell_type": "code",
   "execution_count": 2,
   "metadata": {},
   "outputs": [],
   "source": [
    "l1=ListNode(8)"
   ]
  },
  {
   "cell_type": "code",
   "execution_count": 3,
   "metadata": {},
   "outputs": [
    {
     "data": {
      "text/plain": [
       "8"
      ]
     },
     "execution_count": 3,
     "metadata": {},
     "output_type": "execute_result"
    }
   ],
   "source": [
    "l1.val"
   ]
  },
  {
   "cell_type": "code",
   "execution_count": 4,
   "metadata": {},
   "outputs": [],
   "source": [
    "l2=ListNode(4)"
   ]
  },
  {
   "cell_type": "code",
   "execution_count": 5,
   "metadata": {},
   "outputs": [],
   "source": [
    "merge=Solution()"
   ]
  },
  {
   "cell_type": "code",
   "execution_count": 6,
   "metadata": {},
   "outputs": [
    {
     "data": {
      "text/plain": [
       "<__main__.ListNode at 0x7ff49c4f4898>"
      ]
     },
     "execution_count": 6,
     "metadata": {},
     "output_type": "execute_result"
    }
   ],
   "source": [
    "merge.mergeTowLists(l1,l2)"
   ]
  },
  {
   "cell_type": "markdown",
   "metadata": {},
   "source": [
    "2. 删除链表的倒数第N个节点\n",
    "\n",
    "https://leetcode-cn.com/problems/remove-nth-node-from-end-of-list/\n",
    "\n",
    "给定一个链表，删除链表的倒数第 n 个节点，并且返回链表的头结点。\n",
    "\n",
    "示例：\n",
    "\n",
    "给定一个链表: 1->2->3->4->5, 和 n = 2.\n",
    "\n",
    "当删除了倒数第二个节点后，链表变为 1->2->3->5."
   ]
  },
  {
   "cell_type": "code",
   "execution_count": 7,
   "metadata": {},
   "outputs": [],
   "source": [
    "class Solution2:\n",
    "    \"\"\"\n",
    "    思路：使用快慢指针，一个指针比另一个指针快n个节点。\n",
    "    \"\"\"\n",
    "    def removeNthFromEnd(self,head,n):\n",
    "        fast=head\n",
    "        slow=head\n",
    "        for i in range(n):\n",
    "            if fast.next:\n",
    "                fast=fast.next\n",
    "            else:\n",
    "                \"防止该链表没有n个节点，则返回头节点\"\n",
    "                return head.next\n",
    "        while fast.next:\n",
    "            fast = fast.next\n",
    "            slow=slow.next\n",
    "        slow.next = slow.next.next\n",
    "        return head"
   ]
  },
  {
   "cell_type": "markdown",
   "metadata": {},
   "source": [
    "3. 旋转链表\n",
    "\n",
    "https://leetcode-cn.com/problems/rotate-list/\n",
    "\n",
    "给定一个链表，旋转链表，将链表每个节点向右移动k个位置，其中k是非负数。\n",
    "\n",
    "示例 1:\n",
    "\n",
    "输入: 1->2->3->4->5->NULL, k = 2\n",
    "输出: 4->5->1->2->3->NULL\n",
    "\n",
    "解释:\n",
    "向右旋转 1 步: 5->1->2->3->4->NULL\n",
    "向右旋转 2 步: 4->5->1->2->3->NULL"
   ]
  },
  {
   "cell_type": "code",
   "execution_count": 8,
   "metadata": {},
   "outputs": [],
   "source": [
    "class Solution3:\n",
    "    \"\"\"\n",
    "    目的：给定一个链表，旋转链表，将链表每个节点向右移动 k 个位置，其中 k 是非负数。\n",
    "\n",
    "    思路：先把链表首尾相连，再找到位置断开循环 或将尾部向前数第K个元素作为头，原来的头接到原来的尾上\n",
    "    \"\"\"\n",
    "    def rotateRight(self, head, k):\n",
    "        \"首先排除极端情况\"\n",
    "        if head is None or head.next is None: return head\n",
    "        start, end, i = head, None, 0\n",
    "        while head:\n",
    "            i += 1\n",
    "            end = head\n",
    "            head = head.next\n",
    "        #构成圆\n",
    "        end.next = start\n",
    "        pos = i - k % i\n",
    "        while pos > 1:\n",
    "            start = start.next\n",
    "            pos -= 1\n",
    "        res = start.next\n",
    "        start.next = None\n",
    "        return res"
   ]
  },
  {
   "cell_type": "markdown",
   "metadata": {},
   "source": [
    "<h2 id=\"03\">Task03</h2>\n",
    "- [DataWhale-数据结构与算法（上）/3_栈与递归.md](https://github.com/datawhalechina/team-learning)"
   ]
  },
  {
   "cell_type": "markdown",
   "metadata": {},
   "source": [
    "* 顺序栈"
   ]
  },
  {
   "cell_type": "code",
   "execution_count": 60,
   "metadata": {},
   "outputs": [],
   "source": [
    "#数组实现顺序栈\n",
    "class ArrayStack():\n",
    "    \n",
    "    def __init__(self):\n",
    "        self.items = []\n",
    "    #判断是否为空\n",
    "    def IsEmpty(self):\n",
    "        return self.items == []\n",
    "    #获取栈中元素个数\n",
    "    def size(self):\n",
    "        return len(self.items)\n",
    "    #取栈顶元素的值（数组尾部为栈顶）\n",
    "    def top(self):\n",
    "        if not self.IsEmpty():\n",
    "            return self.items[-1]\n",
    "        else:\n",
    "            print(\"Stack is empty\")\n",
    "            return None\n",
    "    \n",
    "    #出栈\n",
    "    def pop(self):\n",
    "        if not self.IsEmpty():\n",
    "            return self.items.pop()\n",
    "        else:\n",
    "            print(\"栈为空\")\n",
    "            return None\n",
    "    #入栈\n",
    "    def push(self,item):\n",
    "        self.items.append(item)\n",
    "        "
   ]
  },
  {
   "cell_type": "code",
   "execution_count": 61,
   "metadata": {},
   "outputs": [
    {
     "name": "stdout",
     "output_type": "stream",
     "text": [
      "栈是否为空: True\n",
      "栈的大小： 0\n",
      "2\n",
      "False\n",
      "<class 'int'>\n"
     ]
    }
   ],
   "source": [
    "#测试\n",
    "if __name__=='__main__':\n",
    "    stack=ArrayStack()\n",
    "    print(\"栈是否为空:\",stack.IsEmpty())\n",
    "    print(\"栈的大小：\",stack.size())\n",
    "    stack.push(3)\n",
    "    stack.push(5)\n",
    "    print(stack.size())\n",
    "    print(stack.IsEmpty())\n",
    "    stack.pop()\n",
    "    print(type(stack.top()))"
   ]
  },
  {
   "cell_type": "markdown",
   "metadata": {},
   "source": [
    "* 链栈"
   ]
  },
  {
   "cell_type": "code",
   "execution_count": 64,
   "metadata": {},
   "outputs": [],
   "source": [
    "# 链表实现栈\n",
    "class ListNode():\n",
    "    def __init__(self,x):\n",
    "        self.val=x\n",
    "        self.next=None\n",
    "class LinkedLiskStack():\n",
    "    \n",
    "    def __init__(self):\n",
    "        self.val = None\n",
    "        self.next = None\n",
    "    \n",
    "    #判断是否为空\n",
    "    def isempty(self):\n",
    "        return self.next == None\n",
    "    #获取栈中元素个数\n",
    "    def size(self):\n",
    "        i=0\n",
    "        p=self.next\n",
    "        while p != None:\n",
    "            p = p.next\n",
    "            i += 1\n",
    "        return i\n",
    "    #取得栈顶元素的值\n",
    "    def top(self):\n",
    "        if self.next != None:\n",
    "            return self.next.val\n",
    "        else:\n",
    "            print(\"栈为空，无法获取栈顶数据\")\n",
    "            return None\n",
    "        \n",
    "    #出栈\n",
    "    def pop(self):\n",
    "        if self.next != None:\n",
    "            p = self.next\n",
    "            self.next = self.next.next\n",
    "            return p\n",
    "        else:\n",
    "            print(\"栈为空，无法出栈\")\n",
    "            return None\n",
    "    #入栈\n",
    "    def push(self,e):\n",
    "        p = ListNode(e)\n",
    "        if self.next != None:\n",
    "            p.next = self.next\n",
    "        self.next = p\n",
    "        "
   ]
  },
  {
   "cell_type": "code",
   "execution_count": 67,
   "metadata": {},
   "outputs": [
    {
     "name": "stdout",
     "output_type": "stream",
     "text": [
      "栈顶元素： 5\n",
      "栈顶元素： 2\n",
      "栈的长度 1\n",
      "栈是否为空 False\n",
      "栈是否为空 True\n"
     ]
    }
   ],
   "source": [
    "#测试\n",
    "stack = LinkedLiskStack()\n",
    "stack.push(2)\n",
    "stack.push(5)\n",
    "print(\"栈顶元素：\",stack.top())\n",
    "stack.pop()\n",
    "print(\"栈顶元素：\",stack.top())\n",
    "print('栈的长度', stack.size())\n",
    "print('栈是否为空', stack.isempty())\n",
    "stack.pop()\n",
    "print('栈是否为空', stack.isempty())"
   ]
  },
  {
   "cell_type": "markdown",
   "metadata": {},
   "source": [
    "1. 根据要求完成车辆重排的程序代码\n",
    "\n",
    "假设一列货运列车共有n节车厢，每节车厢将停放在不同的车站。假定n个车站的编号分别为1至n，货运列车按照第n站至第1站的次序经过这些车站。车厢的编号与它们的目的地相同。为了便于从列车上卸掉相应的车厢，必须重新排列车厢，使各车厢从前至后按编号1至n的次序排列。当所有的车厢都按照这种次序排列时，在每个车站只需卸掉最后一节车厢即可。"
   ]
  },
  {
   "cell_type": "markdown",
   "metadata": {},
   "source": [
    "# 待完善"
   ]
  },
  {
   "cell_type": "code",
   "execution_count": null,
   "metadata": {},
   "outputs": [],
   "source": [
    "\"\"\"\n",
    "车厢重排算法\n",
    "\"\"\"\n",
    "#\n",
    "\n",
    "\"\"\"\n",
    "在所有缓冲轨车厢中选一个缓冲轨放入车厢c\n",
    "stacks:缓冲轨道\n",
    "c:待放入的车厢\n",
    "minVal:缓冲轨道的最小值\n",
    "minStack:缓冲轨道的最小值所在的缓冲轨道编号\n",
    "\"\"\"\n",
    "def output(stacks, n):\n",
    "    global minVal, minStack\n",
    "    stacks[minStack].pop()\n",
    "    print('移动车厢 %d 从缓冲铁轨 %d 到出轨。' % (minVal, minStack))\n",
    "    minVal = n + 2\n",
    "    minStack = -1\n",
    "    for index, stack in enumerate(stacks):\n",
    "        if((not stack.isempty()) and (stack.top() < minVal)):\n",
    "            minVal = stack.top()\n",
    "            minStack = index\n",
    "\n",
    "def inputStack(i, stacks, n):\n",
    "    global minVal, minStack\n",
    "    beskStack = -1  # 最小车厢索引值所在的缓冲铁轨编号\n",
    "    bestTop = n + 1  # 缓冲铁轨中的最小车厢编号\n",
    "    for index, stack in enumerate(stacks):\n",
    "        if not stack.isempty():  # 若缓冲铁轨不为空\n",
    "            # 若缓冲铁轨的栈顶元素大于要放入缓冲铁轨的元素，并且其栈顶元素小于当前缓冲铁轨中的最小编号\n",
    "            a = stack.top()\n",
    "            # print('stack.top()的类型是', a)\n",
    "            if (a > i and bestTop > a):\n",
    "                bestTop = stack.top()\n",
    "                beskStack = index\n",
    "        else:  # 若缓冲铁轨为空\n",
    "            if beskStack == -1:\n",
    "                beskStack = index\n",
    "                break\n",
    "    if beskStack == -1:\n",
    "        return False\n",
    "    stacks[beskStack].push(i)\n",
    "    print('移动车厢 %d 从入轨到缓冲铁轨 %d。' % (i, beskStack))\n",
    "    if i < minVal:\n",
    "        minVal = i\n",
    "        minStack = beskStack\n",
    "    return True\n",
    "\n",
    "def rail_road(list, k):\n",
    "    global minVal, minStack\n",
    "    stacks = []\n",
    "    for i in range(k):\n",
    "        stack = stack1.ArrayStack()\n",
    "        stacks.append(stack)\n",
    "    nowNeed = 1\n",
    "    n = len(list)\n",
    "    minVal = n + 1\n",
    "    minStack = -1\n",
    "    for i in list:\n",
    "        if i == nowNeed:\n",
    "            print('移动车厢 %d 从入轨到出轨。' % i)\n",
    "            nowNeed += 1\n",
    "            # print(\"minVal\", minVal)\n",
    "            while (minVal == nowNeed):\n",
    "                output(stacks, n)  # 在缓冲栈中查找是否有需求值\n",
    "                nowNeed += 1\n",
    "        else:\n",
    "            if(inputStack(i, stacks, n) == False):\n",
    "                return False\n",
    "    return True\n",
    "\n",
    "if __name__ == \"__main__\":\n",
    "    list = [3, 6, 9, 2, 4, 7, 1, 8, 5]\n",
    "    k = 3\n",
    "    minVal = len(list) + 1\n",
    "    minStack = -1\n",
    "    result = rail_road(list, k)\n",
    "    while(result == False):\n",
    "        print('需要更多的缓冲轨道，请输入需要添加的缓冲轨道数量。')\n",
    "        k = k + int(input())\n",
    "        result = rail_road(list, k)"
   ]
  },
  {
   "cell_type": "markdown",
   "metadata": {},
   "source": [
    "# Task 04"
   ]
  },
  {
   "cell_type": "markdown",
   "metadata": {},
   "source": [
    "1.模拟银行服务完成程序代码\n",
    "\n",
    "目前，在以银行营业大厅为代表的窗口行业中大量使用排队（叫号）系统，该系统完全模拟了人群排队全过程，通过取票进队、排队等待、叫号服务等功能，代替了人们站队的辛苦。\n",
    "\n",
    "排队叫号软件的具体操作流程为：\n",
    "\n",
    "顾客取服务序号:\n",
    "\n",
    "当顾客抵达服务大厅时，前往放置在入口处旁的取号机，并按一下其上的相应服务按钮，取号机会自动打印出一张服务单。单上显示服务号及该服务号前面正在等待服务的人数。\n",
    "\n",
    "服务员工呼叫顾客:\n",
    "\n",
    "服务员工只需按一下其柜台上呼叫器的相应按钮，则顾客的服务号就会按顺序的显示在显示屏上，并发出“叮咚”和相关语音信息，提示顾客前往该窗口办事。当一位顾客办事完毕后，柜台服务员工只需按呼叫器相应键，即可自动呼叫下一位顾客。\n",
    "\n",
    "编写程序模拟上面的工作过程，主要要求如下：\n",
    "\n",
    "程序运行后，当看到“请点击触摸屏获取号码：”的提示时，只要按回车键，即可显示“您的号码是：XXX，您前面有 YYY 位”的提示，其中XXX 是所获得的服务号码，YYY 是在 XXX 之前来到的正在等待服务的人数。 用多线程技术模拟服务窗口（可模拟多个），具有服务员呼叫顾客的行为，假设每个顾客服务的时间是10000ms，时间到后，显示“请 XXX 号到 ZZZ 号窗口！”的提示。其中 ZZZ 是即将为客户服务的窗口号"
   ]
  },
  {
   "cell_type": "code",
   "execution_count": 70,
   "metadata": {},
   "outputs": [],
   "source": [
    "class Node():\n",
    "    def __init__(self, x):\n",
    "        self.data = x\n",
    "        self.next = None\n",
    "\n",
    "class LinkedQueue():\n",
    "    def __init__(self):\n",
    "        self._head = None\n",
    "        self._tail = None\n",
    "\n",
    "    # 进队列\n",
    "    def enqueue(self, val):\n",
    "        newNode = Node(val)\n",
    "        # 如果链表队列为空\n",
    "        if self._tail == None:\n",
    "            self._head = newNode\n",
    "        else:\n",
    "            self._tail.next = newNode\n",
    "        self._tail = newNode\n",
    "\n",
    "    # 出队列，返回的是出队列的node的值\n",
    "    def dequeue(self):\n",
    "        # 如果队列为空\n",
    "        if self._head == self._tail:\n",
    "            return None\n",
    "        else:\n",
    "            node = self._head\n",
    "            self._head = self._head.next\n",
    "            return node.data\n",
    "\n",
    "    def __repr__(self):\n",
    "        # 队列为空\n",
    "        if self._head == self._tail:\n",
    "            return '空'\n",
    "        else:\n",
    "            result = []\n",
    "            cur = self._head\n",
    "            while cur != None:\n",
    "                result.append(cur.daa)\n",
    "                cur = cur.next\n",
    "            return '->'.join(str(x) for x in result)"
   ]
  },
  {
   "cell_type": "code",
   "execution_count": 71,
   "metadata": {},
   "outputs": [],
   "source": [
    "import threading\n",
    "import time\n",
    "class LinkBankQueue(LinkedQueue):\n",
    "    def __init__(self):\n",
    "        LinkedQueue.__init__(self)\n",
    "        self.callNumber = 0\n",
    "\n",
    "    def getCallNumber(self):\n",
    "        if self.is_empty() and self.callNumber == 0:\n",
    "            self.callNumber = 1\n",
    "        else:\n",
    "            self.callNumber += 1\n",
    "        return self.callNumber\n",
    "\n",
    "    def getLength(self):\n",
    "        if self.is_empty():\n",
    "            return 0\n",
    "        else:\n",
    "            cur = self._head\n",
    "            len = 1\n",
    "            while cur != self._tail:\n",
    "                cur = cur.next\n",
    "                len += 1\n",
    "            return len"
   ]
  },
  {
   "cell_type": "code",
   "execution_count": 72,
   "metadata": {},
   "outputs": [],
   "source": [
    "# 服务器\n",
    "class ServiceWindow(threading.Thread):\n",
    "    def __init__(self):\n",
    "        threading.Thread.__init__(self)\n",
    "        self.bankQueue = None\n",
    "        self.lock = threading.Lock()\n",
    "\n",
    "    def service(self):\n",
    "        self.lock.acquire()\n",
    "        while True:\n",
    "            time.sleep(20)\n",
    "            try:\n",
    "                if not self.bankQueue.is_empty():\n",
    "                    print('请 %d 号到 %s 号窗口' % (self.bankQueue._head.data, threading.current_thread().name))\n",
    "                    self.bankQueue.dequeue()\n",
    "                    # time.sleep(10)\n",
    "                else:\n",
    "                    print('队列为空哦')\n",
    "            finally:\n",
    "                self.lock.release()"
   ]
  },
  {
   "cell_type": "code",
   "execution_count": null,
   "metadata": {},
   "outputs": [],
   "source": [
    "# 客户端\n",
    "if __name__ == '__main__':\n",
    "    bankQueue = LinkBankQueue()\n",
    "    windowcount = 2\n",
    "    serviceWindows = [None] * windowcount\n",
    "    threadList = [None] * windowcount\n",
    "    for i in range(windowcount):\n",
    "        serviceWindows[i] = ServiceWindow()\n",
    "        serviceWindows[i].bankQueue = bankQueue\n",
    "        threadList[i] = threading.Thread(name=(i + 1), target=serviceWindows[i].service, args=())\n",
    "        threadList[i].start()\n",
    "    while True:\n",
    "        input('请点击触摸屏获取号码：')\n",
    "        callNumber = bankQueue.getCallNumber()\n",
    "        if bankQueue != None:\n",
    "            print('您的号码是：%d，您前面有 %d 位' % (callNumber, bankQueue.getLength()))\n",
    "            bankQueue.enqueue(callNumber)\n",
    "        else:\n",
    "            print('您的号码是：%d，您前面有 0 位' % (callNumber))"
   ]
  },
  {
   "cell_type": "markdown",
   "metadata": {},
   "source": [
    "<h2 id=05>Task05:字符串</h2>"
   ]
  },
  {
   "cell_type": "markdown",
   "metadata": {},
   "source": [
    "字符串长度"
   ]
  },
  {
   "cell_type": "code",
   "execution_count": 1,
   "metadata": {},
   "outputs": [],
   "source": [
    "#1. 无重复字符的最长子串\n",
    "#https://leetcode-cn.com/problems/longest-substring-without-repeating-characters/\n",
    "class Solution:\n",
    "    def lenthOfLongestSubstring(self,s:str) -> int:\n",
    "        if not s:return 0\n",
    "        left = 0\n",
    "        lookup=set() #定义一个集合用来存储不重复的字符\n",
    "        n=len(s)\n",
    "        max_len = 0\n",
    "        cur_len = 0\n",
    "        for i in range(n):\n",
    "            cur_len += 1\n",
    "            #当新进入的字符已在lookup中存在时，从窗口左侧删除字符，\n",
    "            #直到lookup中不存在新的字符s[i]为止\n",
    "            while s[i] in lookup:\n",
    "                lookup.remove(s[left])\n",
    "                left += 1\n",
    "                cur_len -= 1\n",
    "            if cur_len > max_len:max_len = cur_len\n",
    "            lookup.add(s[i])\n",
    "        return max_len"
   ]
  },
  {
   "cell_type": "code",
   "execution_count": 3,
   "metadata": {},
   "outputs": [
    {
     "data": {
      "text/plain": [
       "1"
      ]
     },
     "execution_count": 3,
     "metadata": {},
     "output_type": "execute_result"
    }
   ],
   "source": [
    "S=Solution()\n",
    "S.lenthOfLongestSubstring('aaa')"
   ]
  },
  {
   "cell_type": "code",
   "execution_count": 5,
   "metadata": {},
   "outputs": [
    {
     "data": {
      "text/plain": [
       "7"
      ]
     },
     "execution_count": 5,
     "metadata": {},
     "output_type": "execute_result"
    }
   ],
   "source": [
    "S.lenthOfLongestSubstring('abcd 23')"
   ]
  },
  {
   "cell_type": "markdown",
   "metadata": {},
   "source": [
    "#2 串联所有单词的子串\n",
    "#https://leetcode-cn.com/problems/substring-with-concatenation-of-all-words/\n",
    "\n",
    "给定一个字符串s和一些长度相同的单词 words。找出 s 中恰好可以由 words 中所有单词串联形成的子串的起始位置。\n",
    "\n",
    "注意子串要与 words 中的单词完全匹配，中间不能有其他字符，但不需要考虑 words 中单词串联的顺序。\n",
    "\n",
    "示例1\n",
    "\n",
    "输入：\n",
    "  s = \"barfoothefoobarman\",\n",
    "  words = [\"foo\",\"bar\"]\n",
    "输出：[0,9]\n",
    "解释：\n",
    "从索引 0 和 9 开始的子串分别是 \"barfoo\" 和 \"foobar\" 。输出的顺序不重要, [9,0] 也是有效答案。\n",
    "示例2\n",
    "\n",
    "输入：\n",
    "  s = \"wordgoodgoodgoodbestword\",\n",
    "  words = [\"word\",\"good\",\"best\",\"word\"]\n",
    "输出：[]"
   ]
  },
  {
   "cell_type": "code",
   "execution_count": null,
   "metadata": {},
   "outputs": [],
   "source": [
    "class Solution:\n",
    "    def findSubstring(self, s: str, words: List[str]) -> List[int]:\n",
    "        from collections import Counter\n",
    "        if not s or not words:return []\n",
    "        one_word = len(words[0])\n",
    "        word_num = len(words)\n",
    "        n = len(s)\n",
    "        words = Counter(words)\n",
    "        res = []\n",
    "        for i in range(0, one_word):\n",
    "            cur_cnt = 0\n",
    "            left = i\n",
    "            right = i\n",
    "            cur_Counter = Counter()\n",
    "            while right + one_word <= n:\n",
    "                w = s[right:right + one_word]\n",
    "                right += one_word\n",
    "                cur_Counter[w] += 1\n",
    "                cur_cnt += 1\n",
    "                while cur_Counter[w] > words[w]:\n",
    "                    left_w = s[left:left+one_word]\n",
    "                    left += one_word\n",
    "                    cur_Counter[left_w] -= 1\n",
    "                    cur_cnt -= 1\n",
    "                if cur_cnt == word_num :\n",
    "                    res.append(left)\n",
    "        return res"
   ]
  },
  {
   "cell_type": "markdown",
   "metadata": {},
   "source": [
    "3. 替换子串得到平衡字符串\n",
    "[leetcode](https://leetcode-cn.com/problems/replace-the-substring-for-balanced-string/)\n"
   ]
  },
  {
   "cell_type": "code",
   "execution_count": 7,
   "metadata": {},
   "outputs": [],
   "source": [
    "\"\"\"\n",
    "分析：思路：\n",
    "1、统计字符个数\n",
    "2、只考虑大于n // 4的字符，目标找到最短的子串将这些多的字符替换掉。\n",
    "3、窗口中s[l,r]就是子串candidate:\n",
    "1）如果子串里包含了足够多要替换的字符，则l += 1， 缩小考察范围；\n",
    "2）如果子串里需要换掉的字符不够，则r += 1，考察更多的字符；\n",
    "举个栗子：\n",
    "‘WQWRQQQW’\n",
    "1、统计字典为counter = {W:3,Q:4,R:1}\n",
    "2、只考虑出现次数大于 n // 4 = 2的字母：counter = {W:3,Q:4}，即多余的字符counter\n",
    "3、我们的目标是把字符串中多余的字母替换掉，即使得 counter_balanced = {W:2,Q:2,E:2,R:2}\n",
    "4、开始时 l = r = 0，此时s[l,r] = 'W',那么此子串不足以将W和Q替换完，所以我们继续考察后面的字符串，r += 1\n",
    "5、到了r = 4时，此时s[l,r] = 'WQWRQ'，那么可替换掉的W有两个，Q有两个，对比counter_balanced和counter\n",
    "我们可以知道，其实我们只需要换掉一个W和两个Q。此时我们可以考虑缩小考察范围，以获得最小的子串，l += 1\n",
    "6、直到l = 1时，此时s[l,r] = 'QWRQ'，我们就可以更新最小子串的长度。\n",
    "7、当l移动到一定程度的时候，子串里的字母又不够替换了，此时我们再移动r。长此以往，就能得到最短替换子串了。\n",
    "\"\"\"\n",
    "\n",
    "class Solution:\n",
    "    def balancedString(self, s: str) -> int:\n",
    "        n = len(s)\n",
    "        b = n // 4 #取商\n",
    "        from collections import Counter\n",
    "        counter = Counter(s)\n",
    "        counter = {key:value for key,value in counter.items() if value > b}#只考虑大于n // 4的字符，目标找到最短的子串将这些多的字符替换掉\n",
    "        \n",
    "        if not counter or n < 4:\n",
    "            return 0\n",
    "        rmove = True #TRUE表示r在向右移动，False表示l再向右移动\n",
    "        \n",
    "        l,r = 0,0\n",
    "        minlen = n\n",
    "        \n",
    "        while l <= r and r < n:\n",
    "            if s[r] in counter and rmove:\n",
    "                counter[s[r]] -= 1\n",
    "            elif l > 0 and s[l - 1] in counter and not rmove:\n",
    "                counter[s[l - 1]] += 1\n",
    "\n",
    "            if {key:value for key,value in counter.items() if value > b}:#表示多余的字符counter还没空\n",
    "                r += 1\n",
    "                rmove = True\n",
    "            else:#表示多余的字符counter已经空了\n",
    "                minlen = min(minlen, r - l + 1)#在历史最小和当前窗口长度中选最小\n",
    "                l += 1#左指针右移缩小窗口\n",
    "                rmove = False\n",
    "                         \n",
    "        return minlen"
   ]
  },
  {
   "cell_type": "code",
   "execution_count": 9,
   "metadata": {},
   "outputs": [
    {
     "data": {
      "text/plain": [
       "0"
      ]
     },
     "execution_count": 9,
     "metadata": {},
     "output_type": "execute_result"
    }
   ],
   "source": [
    "S=Solution()\n",
    "S.balancedString('qwer')"
   ]
  },
  {
   "cell_type": "code",
   "execution_count": 11,
   "metadata": {},
   "outputs": [
    {
     "data": {
      "text/plain": [
       "1"
      ]
     },
     "execution_count": 11,
     "metadata": {},
     "output_type": "execute_result"
    }
   ],
   "source": [
    "S.balancedString('qqwer')"
   ]
  },
  {
   "cell_type": "code",
   "execution_count": 14,
   "metadata": {},
   "outputs": [
    {
     "data": {
      "text/plain": [
       "3"
      ]
     },
     "execution_count": 14,
     "metadata": {},
     "output_type": "execute_result"
    }
   ],
   "source": [
    "S.balancedString('qqqqd')"
   ]
  },
  {
   "cell_type": "code",
   "execution_count": null,
   "metadata": {},
   "outputs": [],
   "source": []
  }
 ],
 "metadata": {
  "kernelspec": {
   "display_name": "Python 3",
   "language": "python",
   "name": "python3"
  },
  "language_info": {
   "codemirror_mode": {
    "name": "ipython",
    "version": 3
   },
   "file_extension": ".py",
   "mimetype": "text/x-python",
   "name": "python",
   "nbconvert_exporter": "python",
   "pygments_lexer": "ipython3",
   "version": "3.5.2"
  }
 },
 "nbformat": 4,
 "nbformat_minor": 2
}
