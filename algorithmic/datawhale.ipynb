{
 "cells": [
  {
   "cell_type": "markdown",
   "metadata": {},
   "source": [
    "# Task01：数组"
   ]
  },
  {
   "cell_type": "markdown",
   "metadata": {},
   "source": [
    "1. 利用动态数组解决数据存放问题\n",
    "\n",
    "编写一段代码，要求输入一个整数N，用动态数组A来存放2~N之间所有5或7的倍数，输出该数组。\n",
    "\n",
    "示例：\n",
    "```\n",
    "输入：\n",
    "N = 100 \n",
    "\n",
    "输出：\n",
    "5 7 10 14 15 20 21 25 28 30 35 40 42 45 49 50 55 56 60 63 65 70 75 77 80 84 85 90 91 95 98 100\n",
    "```"
   ]
  },
  {
   "cell_type": "code",
   "execution_count": 2,
   "metadata": {},
   "outputs": [],
   "source": [
    "def arry_n(n):\n",
    "    A = []\n",
    "    for i in range(2,n+1):\n",
    "        if i%5==0 or i%7==0:\n",
    "            A.append(i)\n",
    "    return A"
   ]
  },
  {
   "cell_type": "code",
   "execution_count": 3,
   "metadata": {},
   "outputs": [
    {
     "data": {
      "text/plain": [
       "[5, 7, 10, 14, 15, 20, 21, 25, 28, 30]"
      ]
     },
     "execution_count": 3,
     "metadata": {},
     "output_type": "execute_result"
    }
   ],
   "source": [
    "arry_n(30)"
   ]
  },
  {
   "cell_type": "markdown",
   "metadata": {},
   "source": [
    "2. 托普利茨矩阵问题\n",
    "\n",
    "https://leetcode-cn.com/problems/toeplitz-matrix/\n",
    "\n",
    "如果一个矩阵的每一方向由左上到右下的对角线上具有相同元素，那么这个矩阵是托普利茨矩阵。\n",
    "\n",
    "给定一个M x N的矩阵，当且仅当它是托普利茨矩阵时返回True。\n",
    "\n",
    "示例1：\n",
    "```\n",
    "输入:\n",
    "matrix = [\n",
    "  [1,2,3,4],\n",
    "  [5,1,2,3],\n",
    "  [9,5,1,2]\n",
    "]\n",
    "输出: True\n",
    "解释:\n",
    "在上述矩阵中, 其对角线为:\n",
    "\"[9]\", \"[5, 5]\", \"[1, 1, 1]\", \"[2, 2, 2]\", \"[3, 3]\", \"[4]\"。\n",
    "各条对角线上的所有元素均相同, 因此答案是`True`。\n",
    "```"
   ]
  },
  {
   "cell_type": "code",
   "execution_count": 5,
   "metadata": {},
   "outputs": [],
   "source": [
    "import numpy as np\n",
    "def toplitz(matrix):\n",
    "    m = np.size(matrix,0)\n",
    "    n = np.size(matrix,1)\n",
    "    false = 0\n",
    "    for i in range(m-1):\n",
    "        for j in range(n-1):\n",
    "            if matrix[i][j] != matrix[i+1][j+1]:\n",
    "                false+=1\n",
    "    if false:\n",
    "        print(False)\n",
    "    else:\n",
    "        print(True)"
   ]
  },
  {
   "cell_type": "code",
   "execution_count": 6,
   "metadata": {},
   "outputs": [
    {
     "name": "stdout",
     "output_type": "stream",
     "text": [
      "True\n"
     ]
    }
   ],
   "source": [
    "toplitz([\n",
    "    [1,2,3,4],\n",
    "    [5,1,2,3],\n",
    "    [9,5,1,2],\n",
    "])"
   ]
  },
  {
   "cell_type": "markdown",
   "metadata": {},
   "source": [
    "3. 三数之和\n",
    "\n",
    "https://leetcode-cn.com/problems/3sum/\n",
    "\n",
    "给定一个包含 n 个整数的数组nums，判断nums中是否存在三个元素a，b，c，使得a + b + c = 0？找出所有满足条件且不重复的三元组。\n",
    "\n",
    "注意：答案中不可以包含重复的三元组。\n",
    "\n",
    "示例：\n",
    "```\n",
    "给定数组 nums = [-1, 0, 1, 2, -1, -4]，\n",
    "\n",
    "满足要求的三元组集合为：\n",
    "[\n",
    "  [-1, 0, 1],\n",
    "  [-1, -1, 2]\n",
    "]\n",
    "```"
   ]
  },
  {
   "cell_type": "code",
   "execution_count": 7,
   "metadata": {},
   "outputs": [],
   "source": [
    "def threesum(nums):\n",
    "    if not nums and len(nums)<3:#空或者少于三个元素不考虑\n",
    "        return False\n",
    "    res = []\n",
    "    nums.sort()#关键：升序排序\n",
    "    for i in range(len(nums)):\n",
    "        if nums[i]>0:#后面只能比它还大，所以和肯定不等于零\n",
    "            return res\n",
    "        if i>0 and nums[i] == nums[i-1]:#跳过重复解\n",
    "            continue\n",
    "        L = i+1\n",
    "        R = len(nums)-1\n",
    "        while L<R:\n",
    "            if nums[L]+nums[i]+nums[R]==0:\n",
    "                res.append([nums[i],nums[L],nums[R]])\n",
    "                while nums[L] == nums[L+1]:#跳过重复元素\n",
    "                    L=L+1\n",
    "                while nums[R] == nums[R-1]:#跳过重复元素\n",
    "                    R=R-1\n",
    "                L = L+1\n",
    "                R = R-1\n",
    "            elif nums[L]+nums[i]+nums[R]>0:#若和大于0，则应该是nums[R]大了，左移减小\n",
    "                R=R-1\n",
    "            elif nums[L]+nums[i]+nums[R]<0:#若和小于0，则应该是nums[L]小了，右移增大\n",
    "                L=L+1\n",
    "    print(res)"
   ]
  },
  {
   "cell_type": "code",
   "execution_count": 8,
   "metadata": {},
   "outputs": [
    {
     "data": {
      "text/plain": [
       "[[-5, -1, 6], [-1, -1, 2], [-1, 0, 1]]"
      ]
     },
     "execution_count": 8,
     "metadata": {},
     "output_type": "execute_result"
    }
   ],
   "source": [
    "threesum([-1, 0, 1, 2, -1, -4, -5, 6])"
   ]
  },
  {
   "cell_type": "code",
   "execution_count": null,
   "metadata": {},
   "outputs": [],
   "source": []
  }
 ],
 "metadata": {
  "kernelspec": {
   "display_name": "Python 3",
   "language": "python",
   "name": "python3"
  },
  "language_info": {
   "codemirror_mode": {
    "name": "ipython",
    "version": 3
   },
   "file_extension": ".py",
   "mimetype": "text/x-python",
   "name": "python",
   "nbconvert_exporter": "python",
   "pygments_lexer": "ipython3",
   "version": "3.5.2"
  }
 },
 "nbformat": 4,
 "nbformat_minor": 2
}
