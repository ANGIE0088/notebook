{
 "cells": [
  {
   "cell_type": "markdown",
   "metadata": {},
   "source": [
    "# Task01：数组"
   ]
  },
  {
   "cell_type": "markdown",
   "metadata": {},
   "source": [
    "1. 利用动态数组解决数据存放问题\n",
    "\n",
    "编写一段代码，要求输入一个整数N，用动态数组A来存放2~N之间所有5或7的倍数，输出该数组。\n",
    "\n",
    "示例：\n",
    "```\n",
    "输入：\n",
    "N = 100 \n",
    "\n",
    "输出：\n",
    "5 7 10 14 15 20 21 25 28 30 35 40 42 45 49 50 55 56 60 63 65 70 75 77 80 84 85 90 91 95 98 100\n",
    "```"
   ]
  },
  {
   "cell_type": "code",
   "execution_count": 2,
   "metadata": {},
   "outputs": [],
   "source": [
    "def arry_n(n):\n",
    "    A = []\n",
    "    for i in range(2,n+1):\n",
    "        if i%5==0 or i%7==0:\n",
    "            A.append(i)\n",
    "    return A"
   ]
  },
  {
   "cell_type": "code",
   "execution_count": 3,
   "metadata": {},
   "outputs": [
    {
     "data": {
      "text/plain": [
       "[5, 7, 10, 14, 15, 20, 21, 25, 28, 30]"
      ]
     },
     "execution_count": 3,
     "metadata": {},
     "output_type": "execute_result"
    }
   ],
   "source": [
    "arry_n(30)"
   ]
  },
  {
   "cell_type": "markdown",
   "metadata": {},
   "source": [
    "$ 很Python的写法: $"
   ]
  },
  {
   "cell_type": "code",
   "execution_count": 14,
   "metadata": {},
   "outputs": [
    {
     "data": {
      "text/plain": [
       "[5, 7, 10, 14, 15, 20, 21, 25, 28]"
      ]
     },
     "execution_count": 14,
     "metadata": {},
     "output_type": "execute_result"
    }
   ],
   "source": [
    "[i for i in range(2,30) if i%5==0 or i%7==0]"
   ]
  },
  {
   "cell_type": "markdown",
   "metadata": {},
   "source": [
    "2. 托普利茨矩阵问题\n",
    "\n",
    "https://leetcode-cn.com/problems/toeplitz-matrix/\n",
    "\n",
    "如果一个矩阵的每一方向由左上到右下的对角线上具有相同元素，那么这个矩阵是托普利茨矩阵。\n",
    "\n",
    "给定一个M x N的矩阵，当且仅当它是托普利茨矩阵时返回True。\n",
    "\n",
    "示例1：\n",
    "```\n",
    "输入:\n",
    "matrix = [\n",
    "  [1,2,3,4],\n",
    "  [5,1,2,3],\n",
    "  [9,5,1,2]\n",
    "]\n",
    "输出: True\n",
    "解释:\n",
    "在上述矩阵中, 其对角线为:\n",
    "\"[9]\", \"[5, 5]\", \"[1, 1, 1]\", \"[2, 2, 2]\", \"[3, 3]\", \"[4]\"。\n",
    "各条对角线上的所有元素均相同, 因此答案是`True`。\n",
    "```"
   ]
  },
  {
   "cell_type": "code",
   "execution_count": 5,
   "metadata": {},
   "outputs": [],
   "source": [
    "import numpy as np\n",
    "def toplitz(matrix):\n",
    "    m = np.size(matrix,0)\n",
    "    n = np.size(matrix,1)\n",
    "    false = 0\n",
    "    for i in range(m-1):\n",
    "        for j in range(n-1):\n",
    "            if matrix[i][j] != matrix[i+1][j+1]:\n",
    "                false+=1\n",
    "    if false:\n",
    "        print(False)\n",
    "    else:\n",
    "        print(True)"
   ]
  },
  {
   "cell_type": "code",
   "execution_count": 6,
   "metadata": {},
   "outputs": [
    {
     "name": "stdout",
     "output_type": "stream",
     "text": [
      "True\n"
     ]
    }
   ],
   "source": [
    "toplitz([\n",
    "    [1,2,3,4],\n",
    "    [5,1,2,3],\n",
    "    [9,5,1,2],\n",
    "])"
   ]
  },
  {
   "cell_type": "markdown",
   "metadata": {},
   "source": [
    "3. 三数之和\n",
    "\n",
    "https://leetcode-cn.com/problems/3sum/\n",
    "\n",
    "给定一个包含 n 个整数的数组nums，判断nums中是否存在三个元素a，b，c，使得a + b + c = 0？找出所有满足条件且不重复的三元组。\n",
    "\n",
    "注意：答案中不可以包含重复的三元组。\n",
    "\n",
    "示例：\n",
    "```\n",
    "给定数组 nums = [-1, 0, 1, 2, -1, -4]，\n",
    "\n",
    "满足要求的三元组集合为：\n",
    "[\n",
    "  [-1, 0, 1],\n",
    "  [-1, -1, 2]\n",
    "]\n",
    "```"
   ]
  },
  {
   "cell_type": "code",
   "execution_count": 7,
   "metadata": {},
   "outputs": [],
   "source": [
    "def threesum(nums):\n",
    "    if not nums and len(nums)<3:#空或者少于三个元素不考虑\n",
    "        return False\n",
    "    res = []\n",
    "    nums.sort()#关键：升序排序\n",
    "    for i in range(len(nums)):\n",
    "        if nums[i]>0:#后面只能比它还大，所以和肯定不等于零\n",
    "            return res\n",
    "        if i>0 and nums[i] == nums[i-1]:#跳过重复解\n",
    "            continue\n",
    "        L = i+1\n",
    "        R = len(nums)-1\n",
    "        while L<R:\n",
    "            if nums[L]+nums[i]+nums[R]==0:\n",
    "                res.append([nums[i],nums[L],nums[R]])\n",
    "                while nums[L] == nums[L+1]:#跳过重复元素\n",
    "                    L=L+1\n",
    "                while nums[R] == nums[R-1]:#跳过重复元素\n",
    "                    R=R-1\n",
    "                L = L+1\n",
    "                R = R-1\n",
    "            elif nums[L]+nums[i]+nums[R]>0:#若和大于0，则应该是nums[R]大了，左移减小\n",
    "                R=R-1\n",
    "            elif nums[L]+nums[i]+nums[R]<0:#若和小于0，则应该是nums[L]小了，右移增大\n",
    "                L=L+1\n",
    "    print(res)"
   ]
  },
  {
   "cell_type": "code",
   "execution_count": 8,
   "metadata": {},
   "outputs": [
    {
     "data": {
      "text/plain": [
       "[[-5, -1, 6], [-1, -1, 2], [-1, 0, 1]]"
      ]
     },
     "execution_count": 8,
     "metadata": {},
     "output_type": "execute_result"
    }
   ],
   "source": [
    "threesum([-1, 0, 1, 2, -1, -4, -5, 6])"
   ]
  },
  {
   "cell_type": "markdown",
   "metadata": {},
   "source": [
    "# Task02 顺序表和链表"
   ]
  },
  {
   "cell_type": "markdown",
   "metadata": {},
   "source": [
    "### 1. 线性表的定义与操作\n",
    "1.1 线性表的定义\n",
    "\n",
    "线性表（Linear List）是由n（n >= 0）个相同类型的数据元素a1,a2,...,an 组成的有序序列。即表中除首尾元素外，其它元素有且仅有一个直接前驱和直接后继。首元素仅有一个直接后继，尾元素仅有一个直接前驱。表中数据元素的个数称为表的长度，记为：(a1,a2,...,an)。"
   ]
  },
  {
   "cell_type": "markdown",
   "metadata": {},
   "source": [
    "练习部分\n",
    "\n",
    "1. 合并两个有序链表\n",
    "\n",
    "https://leetcode-cn.com/problems/merge-two-sorted-lists/\n",
    "\n",
    "将两个有序链表合并为一个新的有序链表并返回。新链表是通过拼接给定的两个链表的所有节点组成的。\n",
    "\n",
    "示例\n",
    "```\n",
    "输入：1->2->4, 1->3->4\n",
    "输出：1->1->2->3->4->4\n",
    "```"
   ]
  },
  {
   "cell_type": "code",
   "execution_count": 1,
   "metadata": {},
   "outputs": [],
   "source": [
    "\"定义链表\"\n",
    "class ListNode:\n",
    "    def __init__(self,x):\n",
    "        self.val=x\n",
    "        self.next=None\n",
    "\n",
    "class Solution:\n",
    "    \"\"\"\n",
    "    功能：合并两个有序链表\n",
    "    思路：遍历l1和l2,取其小者作为下一个节点；\n",
    "          取两个指针，一个作为初始赋值指针，一个用来新增新的值。\n",
    "    \"\"\"\n",
    "    def mergeTwoLists(self,l1,l2):\n",
    "        ans=tmp=ListNode(0)\n",
    "        while l1 and l2:\n",
    "            if l1.val < l2.val:\n",
    "                tmp.next,l1 = l1,l1.next\n",
    "            else:\n",
    "                tmp.next,l2 = l2,l2.next\n",
    "            tmp = tmp.next\n",
    "        tmp.next=l1 or l2\n",
    "        return ans.next"
   ]
  },
  {
   "cell_type": "code",
   "execution_count": 2,
   "metadata": {},
   "outputs": [],
   "source": [
    "l1=ListNode(8)"
   ]
  },
  {
   "cell_type": "code",
   "execution_count": 3,
   "metadata": {},
   "outputs": [
    {
     "data": {
      "text/plain": [
       "8"
      ]
     },
     "execution_count": 3,
     "metadata": {},
     "output_type": "execute_result"
    }
   ],
   "source": [
    "l1.val"
   ]
  },
  {
   "cell_type": "code",
   "execution_count": 4,
   "metadata": {},
   "outputs": [],
   "source": [
    "l2=ListNode(4)"
   ]
  },
  {
   "cell_type": "code",
   "execution_count": 5,
   "metadata": {},
   "outputs": [],
   "source": [
    "merge=Solution()"
   ]
  },
  {
   "cell_type": "code",
   "execution_count": 6,
   "metadata": {},
   "outputs": [
    {
     "data": {
      "text/plain": [
       "<__main__.ListNode at 0x7ff49c4f4898>"
      ]
     },
     "execution_count": 6,
     "metadata": {},
     "output_type": "execute_result"
    }
   ],
   "source": [
    "merge.mergeTowLists(l1,l2)"
   ]
  },
  {
   "cell_type": "markdown",
   "metadata": {},
   "source": [
    "2. 删除链表的倒数第N个节点\n",
    "\n",
    "https://leetcode-cn.com/problems/remove-nth-node-from-end-of-list/\n",
    "\n",
    "给定一个链表，删除链表的倒数第 n 个节点，并且返回链表的头结点。\n",
    "\n",
    "示例：\n",
    "\n",
    "给定一个链表: 1->2->3->4->5, 和 n = 2.\n",
    "\n",
    "当删除了倒数第二个节点后，链表变为 1->2->3->5."
   ]
  },
  {
   "cell_type": "code",
   "execution_count": 7,
   "metadata": {},
   "outputs": [],
   "source": [
    "class Solution2:\n",
    "    \"\"\"\n",
    "    思路：使用快慢指针，一个指针比另一个指针快n个节点。\n",
    "    \"\"\"\n",
    "    def removeNthFromEnd(self,head,n):\n",
    "        fast=head\n",
    "        slow=head\n",
    "        for i in range(n):\n",
    "            if fast.next:\n",
    "                fast=fast.next\n",
    "            else:\n",
    "                \"防止该链表没有n个节点，则返回头节点\"\n",
    "                return head.next\n",
    "        while fast.next:\n",
    "            fast = fast.next\n",
    "            slow=slow.next\n",
    "        slow.next = slow.next.next\n",
    "        return head"
   ]
  },
  {
   "cell_type": "markdown",
   "metadata": {},
   "source": [
    "3. 旋转链表\n",
    "\n",
    "https://leetcode-cn.com/problems/rotate-list/\n",
    "\n",
    "给定一个链表，旋转链表，将链表每个节点向右移动k个位置，其中k是非负数。\n",
    "\n",
    "示例 1:\n",
    "\n",
    "输入: 1->2->3->4->5->NULL, k = 2\n",
    "输出: 4->5->1->2->3->NULL\n",
    "\n",
    "解释:\n",
    "向右旋转 1 步: 5->1->2->3->4->NULL\n",
    "向右旋转 2 步: 4->5->1->2->3->NULL"
   ]
  },
  {
   "cell_type": "code",
   "execution_count": 8,
   "metadata": {},
   "outputs": [],
   "source": [
    "class Solution3:\n",
    "    \"\"\"\n",
    "    目的：给定一个链表，旋转链表，将链表每个节点向右移动 k 个位置，其中 k 是非负数。\n",
    "\n",
    "    思路：先把链表首尾相连，再找到位置断开循环 或将尾部向前数第K个元素作为头，原来的头接到原来的尾上\n",
    "    \"\"\"\n",
    "    def rotateRight(self, head, k):\n",
    "        \"首先排除极端情况\"\n",
    "        if head is None or head.next is None: return head\n",
    "        start, end, i = head, None, 0\n",
    "        while head:\n",
    "            i += 1\n",
    "            end = head\n",
    "            head = head.next\n",
    "        #构成圆\n",
    "        end.next = start\n",
    "        pos = i - k % i\n",
    "        while pos > 1:\n",
    "            start = start.next\n",
    "            pos -= 1\n",
    "        res = start.next\n",
    "        start.next = None\n",
    "        return res"
   ]
  },
  {
   "cell_type": "code",
   "execution_count": null,
   "metadata": {},
   "outputs": [],
   "source": []
  }
 ],
 "metadata": {
  "kernelspec": {
   "display_name": "Python 3",
   "language": "python",
   "name": "python3"
  },
  "language_info": {
   "codemirror_mode": {
    "name": "ipython",
    "version": 3
   },
   "file_extension": ".py",
   "mimetype": "text/x-python",
   "name": "python",
   "nbconvert_exporter": "python",
   "pygments_lexer": "ipython3",
   "version": "3.5.2"
  }
 },
 "nbformat": 4,
 "nbformat_minor": 2
}
